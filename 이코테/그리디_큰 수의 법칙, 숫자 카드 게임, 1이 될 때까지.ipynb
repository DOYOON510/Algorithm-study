{
 "cells": [
  {
   "cell_type": "code",
   "execution_count": 5,
   "id": "25b7ebb2",
   "metadata": {},
   "outputs": [],
   "source": [
    "# Import libraries\n",
    "import numpy as np\n",
    "import pandas as pd"
   ]
  },
  {
   "cell_type": "markdown",
   "id": "f1f0534d",
   "metadata": {},
   "source": [
    "# 큰 수의 법칙\n",
    "동빈이의 큰 수의 법칙은 N개의 수로 이루어진 배열이 있을 때 주어진 수들을 M번 더하여 가장 큰 수를 만드는 것이며, 연속해서 K번을 초과하여 더해질 수 없다. "
   ]
  },
  {
   "cell_type": "markdown",
   "id": "9ee700e4",
   "metadata": {},
   "source": [
    "## 입력 조건\n",
    "- 첫째 줄에 N(2 <= N <= 1000), M(1 <= M <=10000), K(1 <= K <= 10000)의 자연수가 주어지며, 각 자연수는 공백으로 구분한다.\n",
    "- 둘째 줄에 N개의 자연수가 주어진다. 각 자연수는 공백으로 구분한다. 단, 각각의 자연수는 1 이상 10000 이하의 수로 주어진다.\n",
    "- 입력으로 주어지는 K는 항상 M보다 작거나 같다.\n",
    "\n",
    "## 출력 조건\n",
    "- 첫째 줄에 동빈이의 큰 수의 법칙에 따라 더해진 답을 출력한다."
   ]
  },
  {
   "cell_type": "markdown",
   "id": "3b4b9af7",
   "metadata": {},
   "source": [
    "## 내 코드"
   ]
  },
  {
   "cell_type": "code",
   "execution_count": 13,
   "id": "65a6fe87",
   "metadata": {},
   "outputs": [
    {
     "name": "stdout",
     "output_type": "stream",
     "text": [
      "5 8 3\n",
      "2 4 5 6 4\n",
      "46\n"
     ]
    }
   ],
   "source": [
    "n, m, k = map(int, input().split())\n",
    "data = list(map(int, input().split()))\n",
    "\n",
    "data.sort()\n",
    "result = 0\n",
    "\n",
    "while True:\n",
    "    for i in range(k):\n",
    "        m -= 1\n",
    "        result += data[-1]\n",
    "        if m == 0:\n",
    "            break\n",
    "    result += data[-2]\n",
    "    m -= 1\n",
    "    if m == 0:\n",
    "        break\n",
    "\n",
    "print(result)"
   ]
  },
  {
   "cell_type": "markdown",
   "id": "48fa6a20",
   "metadata": {},
   "source": [
    "## 답안 코드"
   ]
  },
  {
   "cell_type": "code",
   "execution_count": 15,
   "id": "54326a0c",
   "metadata": {},
   "outputs": [
    {
     "name": "stdout",
     "output_type": "stream",
     "text": [
      "5 8 3\n",
      "2 4 5 6 4\n",
      "46\n"
     ]
    }
   ],
   "source": [
    "n, m, k = map(int, input().split())\n",
    "data = list(map(int, input().split()))\n",
    "data.sort()\n",
    "\n",
    "count = int(m / (k + 1)) * k\n",
    "count += m % (k + 1)\n",
    "\n",
    "result = 0\n",
    "result += count * data[-1]\n",
    "result += (m - count) * data[-2]\n",
    "\n",
    "print(result)"
   ]
  },
  {
   "cell_type": "markdown",
   "id": "0c6f0d0f",
   "metadata": {},
   "source": [
    "# 숫자 카드 게임\n",
    "- 숫자가 쓰인 카드들이 N X M 형태로 놓여있다. 이때 N은 행의 개수를, M은 열의 개수를 의미한다.\n",
    "- 먼저 뽑고자 하는 카드가 포함되어 있는 행을 선택한다.\n",
    "- 그 다음 선택된 행에 포함된 카드들 중 가장 숫자가 낮은 카드를 뽑아야 한다.\n",
    "- 따라서 처음에 카드를 골라낼 행을 선택할 때, 이후에 해당 행에서 가장 숫자가 낮은 카다를 뽑을 것을 고려하여 최종적으로 가장 높은 숫자의 카드를 뽑을 수 있도록 전략을 세워야한다.\n",
    "\n",
    "## 입력 조건\n",
    "- 첫째 줄에 숫자 카드들이 놓이 행의 개수 N과 열의 개수 M이 공백을 기준으로 하여  각각 자연수로 주어진다. (1 <= N, M < = 100)\n",
    "- 둘째 줄부터 N개의 줄에 걸쳐 각 카드에 적힌 숫자가 주어진다. 각 숫자는 1 이상 10000 이하의 자연수이다.\n",
    "\n",
    "## 출력 조건\n",
    "- 첫째 줄에 게임의 룰에 맞게 선택한 카드에 적힌 숫자를 출력한다."
   ]
  },
  {
   "cell_type": "markdown",
   "id": "39854822",
   "metadata": {},
   "source": [
    "## 내 코드"
   ]
  },
  {
   "cell_type": "code",
   "execution_count": 18,
   "id": "2c809f8f",
   "metadata": {},
   "outputs": [
    {
     "name": "stdout",
     "output_type": "stream",
     "text": [
      "3 3\n",
      "3 1 2\n",
      "4 1 4\n",
      "2 2 2\n",
      "2\n"
     ]
    }
   ],
   "source": [
    "n, m = map(int, input().split())\n",
    "\n",
    "min_value = []\n",
    "\n",
    "for i in range(n):\n",
    "    card = list(map(int, input().split()))\n",
    "    min_value.append(min(card))\n",
    "print(max(min_value))"
   ]
  },
  {
   "cell_type": "markdown",
   "id": "28d8acd1",
   "metadata": {},
   "source": [
    "## 답안 코드"
   ]
  },
  {
   "cell_type": "code",
   "execution_count": null,
   "id": "3ff29edf",
   "metadata": {},
   "outputs": [],
   "source": [
    "n, m = map(int, input().split())\n",
    "\n",
    "result = 0\n",
    "\n",
    "for i in range(n):\n",
    "    card = list(map(int, input().split()))\n",
    "    min_value = ming(card)\n",
    "    result = max(result, min_value)\n",
    "print(max(min_value))"
   ]
  },
  {
   "cell_type": "markdown",
   "id": "4b1f29b8",
   "metadata": {},
   "source": [
    "# 1이 될 때 까지\n",
    "어떠한 수 N이 1이 될때까지 다음의 두 과정 중 하나를 반복적으로 선택하여 수행하려고 한다. 단 두번째 연산은 N이 K로 나누어 떨어질 때만 선택할 수 있다.\n",
    "- N에서 1을 뺀다.\n",
    "- N을 K로 나눈다.\n",
    "\n",
    "## 입력 조건\n",
    "- 첫째 줄에 N(2 <= N <= 100000)과 K(2 <= K <= 100000)가 공백으로 구분되며 각각 자연수로 주어진다. 이때 입력으로 주어지는 N은 항상 K보다 크거나 같다.\n",
    "\n",
    "## 출력 조건\n",
    "- 첫째 줄에 N이 1이 될 때까지 1번 혹은 2번의 과정을 수행해야 하는 횟수의 최솟값을 입력한다."
   ]
  },
  {
   "cell_type": "markdown",
   "id": "aafa0df6",
   "metadata": {},
   "source": [
    "## 내 코드"
   ]
  },
  {
   "cell_type": "code",
   "execution_count": 33,
   "id": "1f5d674d",
   "metadata": {},
   "outputs": [
    {
     "name": "stdout",
     "output_type": "stream",
     "text": [
      "25 5\n",
      "2\n"
     ]
    }
   ],
   "source": [
    "n, k = map(int, input().split())\n",
    "\n",
    "count = 0\n",
    "\n",
    "while True:\n",
    "    if n % k == 0:\n",
    "        n /= k\n",
    "        count += 1\n",
    "    elif n < k:\n",
    "        break\n",
    "    else:\n",
    "        n -= 1\n",
    "        count += 1\n",
    "\n",
    "print(count)"
   ]
  },
  {
   "cell_type": "markdown",
   "id": "2b9ee939",
   "metadata": {},
   "source": [
    "## 답안 코드"
   ]
  },
  {
   "cell_type": "code",
   "execution_count": 35,
   "id": "be8b9dd7",
   "metadata": {},
   "outputs": [
    {
     "name": "stdout",
     "output_type": "stream",
     "text": [
      "25 5\n",
      "2\n"
     ]
    }
   ],
   "source": [
    "n, k = map(int, input().split())\n",
    "\n",
    "result = 0\n",
    "\n",
    "while True:\n",
    "    target = (n // k) * k\n",
    "    result += (n - target)\n",
    "    n = target\n",
    "\n",
    "    if n < k:\n",
    "        break\n",
    "    result += 1\n",
    "    n //= k\n",
    "\n",
    "result += (n - 1)\n",
    "print(result)"
   ]
  },
  {
   "cell_type": "code",
   "execution_count": null,
   "id": "2563c2c0",
   "metadata": {},
   "outputs": [],
   "source": []
  }
 ],
 "metadata": {
  "kernelspec": {
   "display_name": "Python 3 (ipykernel)",
   "language": "python",
   "name": "python3"
  },
  "language_info": {
   "codemirror_mode": {
    "name": "ipython",
    "version": 3
   },
   "file_extension": ".py",
   "mimetype": "text/x-python",
   "name": "python",
   "nbconvert_exporter": "python",
   "pygments_lexer": "ipython3",
   "version": "3.9.7"
  },
  "toc": {
   "base_numbering": 1,
   "nav_menu": {},
   "number_sections": true,
   "sideBar": true,
   "skip_h1_title": false,
   "title_cell": "Table of Contents",
   "title_sidebar": "Contents",
   "toc_cell": false,
   "toc_position": {},
   "toc_section_display": true,
   "toc_window_display": false
  }
 },
 "nbformat": 4,
 "nbformat_minor": 5
}
