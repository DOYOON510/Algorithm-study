{
 "cells": [
  {
   "cell_type": "markdown",
   "id": "e569d250",
   "metadata": {},
   "source": [
    "# 구현 예제\n",
    "## 상하좌우\n",
    "- 여행가 A는 N X N 크기의 정사각형 공간위에 서 있다. 이 공간은 1 X 1 크기의 정사각형으로 나누어져 있다. 가장 왼쪽 위 자표는 (1,1)이며, 가장 오른쪽 아래 좌표는 (N,N)에 해당된다. 여행가 A는 상, 하, 좌, 우 방향으로 이동할 수 있으며, 시작 좌표는 항상 (1,1)이다. 우리 앞에는 여행가 A가 이동할 계획이 적힌 계획서가 놓여있다. 계획서에는 L, R, U, D중 하나의 문자가 반복적으로 적혀있으며 N X N 크기의 공간을 벗어나는 움직임은 무시된다.\n",
    "\n",
    "### 입력조건\n",
    "- 첫째 줄에 공간의 크기를 나타내는 N이 주어진다. (1<= N <= 100)\n",
    "- 둘째 줄에 여행가 A가 이동한 계획서 내용이 주어진다.(1<= 이동횟수 <= 100)\n",
    "\n",
    "### 출력조건\n",
    "- 첫째 줄에 여행가 A가 최종적으로 도착할 지점의 좌표 (X,Y)를 공백으로 구분하여 출력한다."
   ]
  },
  {
   "cell_type": "code",
   "execution_count": 2,
   "id": "2d79b632",
   "metadata": {},
   "outputs": [
    {
     "name": "stdout",
     "output_type": "stream",
     "text": [
      "5\n",
      "R R R U D D\n",
      "3 4\n"
     ]
    }
   ],
   "source": [
    "n = int(input())\n",
    "x, y = 1, 1\n",
    "plans = input().split()\n",
    "\n",
    "dx = [0, 0, -1, 1]\n",
    "dy = [-1, 1, 0, 0]\n",
    "move_types = ['L', 'R', 'U', 'D']\n",
    "\n",
    "for plan in plans:\n",
    "    for i in range(len(move_types)):\n",
    "        if plan == move_types[i]:\n",
    "            nx = x + dx[i]\n",
    "            ny = y + dy[i]\n",
    "\n",
    "    if nx < 1 or ny < 1 or nx > n or ny > n:\n",
    "        continue\n",
    "\n",
    "    x, y = nx, ny\n",
    "\n",
    "print(x, y)"
   ]
  },
  {
   "cell_type": "markdown",
   "id": "6bed413a",
   "metadata": {},
   "source": [
    "## 시각\n",
    "- 정수 N이 입력되면 00시 00분 00초부터 N시 59분 59초까지의 모든 시각 중에서 3이 하나라도 포함되는 모든 경우의 수를 구하는 프로그램을 작성하시오\n",
    "- 완전탐색 유형"
   ]
  },
  {
   "cell_type": "code",
   "execution_count": 3,
   "id": "cbfdda32",
   "metadata": {},
   "outputs": [
    {
     "name": "stdout",
     "output_type": "stream",
     "text": [
      "5\n",
      "11475\n"
     ]
    }
   ],
   "source": [
    "h= int(input())\n",
    "\n",
    "count=0\n",
    "for i in range(h+1):\n",
    "    for j in range(60):\n",
    "        for k in range(60):\n",
    "            if '3' in str(i)+str(j)+str(k):\n",
    "                count+=1\n",
    "                \n",
    "print(count)"
   ]
  },
  {
   "cell_type": "markdown",
   "id": "8ccbf403",
   "metadata": {},
   "source": [
    "# 실전문제\n",
    "## 왕실의 나이트\n",
    "행복 왕국의 왕실 정원은 체스판과 같은 8 × 8 좌표 평면이다. 왕실 정원의 특정한 한 칸에 나이트가 서있다.\n",
    "나이트는 매우 충성스러운 신하로서 매일 무술을 연마한다\n",
    "나이트는 말을 타고 있기 때문에 이동을 할 때는 L자 형태로만 이동할 수 있으며 정원 밖으로는 나갈 수 없다\n",
    "나이트는 특정 위치에서 다음과 같은 2가지 경우로 이동할 수 있다\n",
    "\n",
    "- 수평으로 두 칸 이동한 뒤에 수직으로 한 칸 이동하기\n",
    "- 수직으로 두 칸 이동한 뒤에 수평으로 한 칸 이동하기\n",
    "\n",
    "이처럼 8 × 8 좌표 평면상에서 나이트의 위치가 주어졌을 때 나이트가 이동할 수 있는 경우의 수를 출력하는\n",
    "프로그램을 작성하라. 왕실의 정원에서 행 위치를 표현할 때는 1부터 8로 표현하며, 열 위치를 표현할 때는\n",
    "a 부터 h로 표현한다\n",
    "\n",
    "- c2에 있을 때 이동할 수 있는 경우의 수는 6가지이다\n",
    "- a1에 있을 때 이동할 수 있는 경우의 수는 2가지이다\n",
    "\n",
    "### 입력조건\n",
    "- 첫째 줄에 8x8 좌표 평면상에서 현재 나이트가 위치한 곳의 좌표를 나타내는 두 문자로 구성된 문자열이 입력된다. 입력 문자는 a1 처럼 열과 행으로 이뤄진다.\n",
    "\n",
    "### 출력조건\n",
    "- 첫째 줄에 나이트가 이동할 수 있는 경우의 수를 출력하시오."
   ]
  },
  {
   "cell_type": "markdown",
   "id": "66bfc417",
   "metadata": {},
   "source": [
    "### 내 코드(실패!!!!)"
   ]
  },
  {
   "cell_type": "code",
   "execution_count": 44,
   "id": "fdefe59f",
   "metadata": {
    "scrolled": true
   },
   "outputs": [
    {
     "name": "stdout",
     "output_type": "stream",
     "text": [
      "a1\n",
      "3\n"
     ]
    }
   ],
   "source": [
    "input_data=input()\n",
    "move=[[2,1],[2,-1],[-2,1],[-2,-1],[1,2],[1,-2],[-1,2],[-1,2]]\n",
    "col=['a','b','c','d','e','f','g','h']\n",
    "raw=[1,2,3,4,5,6,7,8]\n",
    "count=0\n",
    "\n",
    "for c in range(len(col)): \n",
    "    for r in range(len(raw)):\n",
    "        if col[c]+str(raw[r]) == input_data:\n",
    "            location=[c+1,r]\n",
    "            \n",
    "            for i in move:\n",
    "                if [location[0]+i[0],location[1]+i[1]]<=[8,8] and [location[0]+i[0],location[1]+i[1]]>=[1,1]:\n",
    "                    count+=1\n",
    "                else:\n",
    "                    continue\n",
    "\n",
    "            \n",
    "print(count)\n",
    "            \n",
    "            \n",
    "\n"
   ]
  },
  {
   "cell_type": "markdown",
   "id": "19af54c8",
   "metadata": {},
   "source": [
    "### 답안 예시"
   ]
  },
  {
   "cell_type": "code",
   "execution_count": 5,
   "id": "65166225",
   "metadata": {},
   "outputs": [
    {
     "name": "stdout",
     "output_type": "stream",
     "text": [
      "a1\n",
      "2\n"
     ]
    }
   ],
   "source": [
    "input_data=input()\n",
    "row=int(input_data[1])\n",
    "col=int(ord(input_data[0]))-int(ord('a'))+1\n",
    "\n",
    "steps=[(2,1),(2,-1),(-2,1),(-2,-1),(1,2),(1,-2),(-1,2),(-1,2)]\n",
    "\n",
    "result=0\n",
    "for step in steps:\n",
    "    next_row=row+step[0]\n",
    "    next_col=col+step[1]\n",
    "    \n",
    "    if next_row>=1 and next_row<=8 and next_col>=1 and next_col<=8:\n",
    "        result+=1\n",
    "        \n",
    "print(result)"
   ]
  },
  {
   "cell_type": "markdown",
   "id": "7c98cf09",
   "metadata": {},
   "source": [
    "## 게임개발\n",
    "현민이는 게임 캐릭터가 맵 안에서 움직이는 시스템을 개발 중이다. 캐릭터가 있는 장소는 1 X 1 크기의 정사각형으로 이뤄진 N X M 크기의 직사각형으로, 각각의 칸은 육지 또는 바다이다. 캐릭터는 동서남북 중 한 곳을 바라본다.\n",
    "\n",
    "맵의 각 칸은 (A, B)로 나타낼 수 있고, A는 북쪽으로부터 떨어진 칸의 개수, B는 서쪽으로부터 떨어진 칸의 개수이다. 캐릭터는 상하좌우로 움직일 수 있고, 바다로 되어 있는 공간에는 갈 수 없다. 캐릭터의 움직임을 설정하기 위해 정해 놓은 매뉴얼은 이러하다.\n",
    "\n",
    "- 현재 위치에서 현재 방향을 기준으로 왼쪽 방향(반시계 방향으로 90도 회전한 방향)부터 차례대로 갈 곳을 정한다.\n",
    "\n",
    "- 캐릭터의 바로 왼쪽 방향에 아직 가보지 않은 칸이 존재한다면, 왼쪽 방향으로 횐전한 다음 왼쪽으로 한 칸을 전진한다. 왼쪽 방향에 가보지 않은 칸이 없다면, 왼쪽 방향으로 회전만 수행하고 1단계로 돌아간다.\n",
    "\n",
    "- 만약 네 방향 모두 이미 가본 칸이거나 바다로 되어 있는 칸인 경우에는, 바라보는 방향을 유지한 채로 한 칸 뒤로 가고 1단계로 돌아간다. 단, 이때 뒤쪽 방향이 바다인 칸이라 뒤로 갈 수 없는 경우에는 움직임을 멈춘다.\n",
    "\n",
    "현민이는 위 과정을 반복적으로 수행하면서 캐릭터의 움직임에 이상이 있는지 테스트하려고 한다. 메뉴얼에 따라 캐릭터를 이동시킨 뒤에, 캐릭터가 방문한 칸의 수를 출력하는 프로그램을 만드시오.\n",
    "\n",
    "### 입력조건\n",
    "- 첫째 줄에 맵의 세로 크기 N과 가로 크기 M을 공백으로 구분하여 입력한다. (3 <= N, M <= 50)\n",
    "\n",
    "- 둘째 줄에 게임 캐릭터가 있는 칸의 좌표 (A, B)와 바라보는 방햔 d가 각각 서로 공백으로 구분하여 주어진다. 방향 d의 값으로는 다음과 같이 4가지가 존재한다. (0 : 북쪽 , 1 : 동쪽 , 2 : 남쪽 , 3 : 서쪽)\n",
    "\n",
    "- 셋째 줄부터 맵이 육지인지 바다인지에 대한 정보가 주어진다. N개의 줄에 맵의 상태가 북쪽부터 남쪽 순서대로, 각 줄의 데이터는 서쪽부터 동쪽 순서대로 주어진다. 맵의 외각은 항상 바다로 되어 있다. ( 0 : 육지 , 1 : 바다) \n",
    "- 처음에 게임 캐릭터가 위치한 칸의 상태는 항상 육지이다.\n",
    "\n",
    "### 출력조건\n",
    "첫째 줄에 이동을 마친 후 캐릭터가 방문한 칸의 수를 출력한다."
   ]
  },
  {
   "cell_type": "code",
   "execution_count": null,
   "id": "b9cb2c1e",
   "metadata": {},
   "outputs": [],
   "source": [
    "n,m=map(int,input().split())\n",
    "\n",
    "# 방문한 위치를 저장하기 위한 맵을 생성하여 0으로 초기화\n",
    "d=[[0]*m for _ in range(n)]\n",
    "\n",
    "# 현재 캐릭터의 x,y,방향 입력받기\n",
    "x,y,direction=map(int,input().split)\n",
    "d[x][y]=1 # 현재좌표 방문처리\n",
    "\n",
    "# 전체 맵 정보 입력받기\n",
    "array=[]\n",
    "for i in range(n):\n",
    "    array.append(list(map(int,input().split())))\n",
    "\n",
    "# 북, 동, 서, 남 방향 정의\n",
    "dx=[-1,0,1,0]\n",
    "dy=[0,1,0,-1]\n",
    "\n",
    "#왼쪽 회전함수\n",
    "def turn_left():\n",
    "    global direction # 전역함수 사용\n",
    "    direction-=1\n",
    "    if direction==-1:\n",
    "        direction=3\n",
    "        \n",
    "#시뮬레이션 시작\n",
    "count=1 #현재 위치를 방문한 칸에 포함\n",
    "turn_time=0\n",
    "while True:\n",
    "    #왼쪽으로 회전\n",
    "    turn_left()\n",
    "    nx=x+dx[direction]\n",
    "    ny=y+dy[direction]\n",
    "    #회전한 이후 정면에 가보지 않은 칸이 존재하는 경우 이동\n",
    "    if d[nx][ny]==0 and array[nx][ny]==0:\n",
    "        d[nx][ny]=1\n",
    "        x=nx\n",
    "        y=ny\n",
    "        count+=1\n",
    "        turn_time=0\n",
    "        continue\n",
    "        \n",
    "    # 회전한 이후 정면에 가보지 않은 칸이 없거나 바다인 경우\n",
    "    else:\n",
    "        turn_time+=1\n",
    "    \n",
    "    # 네 방향 모두 갈 수 없는 경우\n",
    "    if turn_time==4:\n",
    "        nx=x-dx[direction]\n",
    "        ny=y-dy[direction]\n",
    "        \n",
    "        # 뒤로 갈 수 있다면 뒤로가기\n",
    "        if array[nx][ny]==0:\n",
    "            x=nx\n",
    "            y=ny\n",
    "        else:\n",
    "            break\n",
    "        turn_time=0\n",
    "        \n",
    "print(count)"
   ]
  }
 ],
 "metadata": {
  "kernelspec": {
   "display_name": "Python 3 (ipykernel)",
   "language": "python",
   "name": "python3"
  },
  "language_info": {
   "codemirror_mode": {
    "name": "ipython",
    "version": 3
   },
   "file_extension": ".py",
   "mimetype": "text/x-python",
   "name": "python",
   "nbconvert_exporter": "python",
   "pygments_lexer": "ipython3",
   "version": "3.9.7"
  },
  "toc": {
   "base_numbering": 1,
   "nav_menu": {},
   "number_sections": true,
   "sideBar": true,
   "skip_h1_title": false,
   "title_cell": "Table of Contents",
   "title_sidebar": "Contents",
   "toc_cell": false,
   "toc_position": {},
   "toc_section_display": true,
   "toc_window_display": false
  }
 },
 "nbformat": 4,
 "nbformat_minor": 5
}
