{
 "cells": [
  {
   "cell_type": "markdown",
   "id": "e24e89b2",
   "metadata": {},
   "source": [
    "# 1로 만들기\n",
    "## 문제\n",
    "- 정수 X가 주어질때 정수 X에 사용할 수 있는 연산은 다음과 같이 4가지이다.\n",
    "1) X가 5로 나누어떨어지면, 5로 나눈다.\n",
    "2) X가 3으로 나누어 떨어지면, 3으로 나눈다.\n",
    "3) X가 2로 나누어 떨어지면, 2로 나눈다.\n",
    "4) X에서 1을 뺀다.\n",
    "\n",
    "- 정수 X가 주어졌을때, 연산 4개를 적절히 사용해서 1을 만들려고 한다. 연산을 사용하는 횟수의 최솟값을 출력하시오.\n",
    "예를 들어, 정수가 26이면 다음과 같이 계산해서 3번의 연산이 최솟값이다.\n",
    "1) 26 - 1 = 25\n",
    "2) 25 / 5 = 5\n",
    "3) 5 / 5 = 1\n",
    "\n",
    "## 입력조건 \n",
    "- 첫째 줄에 정수 X이 주어진다. (1<=X<=30,000)\n",
    "## 출력조건\n",
    "- 첫째 줄에 연산을 하는 횟수의 최솟값을 출력한다."
   ]
  },
  {
   "cell_type": "code",
   "execution_count": null,
   "id": "2f1fb3eb",
   "metadata": {},
   "outputs": [],
   "source": [
    "# 정수 X를 입력받기\n",
    "x= int(input())\n",
    "\n",
    "# 앞서 계산된 결과를 저장하기 위한 DP 테이블 초기화\n",
    "d=[0]*30001\n",
    "\n",
    "# DP (보텀업)\n",
    "for i in range(2, x+1):\n",
    "    # 현재의 수에서 1을 빼는 경우\n",
    "    d[i] = d[i-1] + 1\n",
    "    # 현재의 수가 2로 나누어 떨어지는 경우\n",
    "    if i % 2 == 0:\n",
    "        d[i] = min(d[i], d[i//2] + 1)\n",
    "    # 현재의 수가 3으로 나누어 떨어지는 경우\n",
    "    if i % 3 == 0:\n",
    "        d[i] = min(d[i], d[i//3] + 1)\n",
    "    # 현재의 수가 5로 나누어 떨어지는 경우\n",
    "    if i % 5 == 0:\n",
    "        d[i] = min(d[i], d[i // 5] + 1)\n",
    "        \n",
    "print(d[x])"
   ]
  },
  {
   "cell_type": "markdown",
   "id": "08c1d554",
   "metadata": {},
   "source": [
    "# 개미전사\n",
    "## 문제\n",
    "- 개미 전사는 부족한 식량을 충당하고자 메뚜기 마을의 식량창고를 몰래 공격하려고 한다. 메뚜기 마을에는 여러 개의 식량창고가 있는데 식량창고는 일직선으로 이어져 있다. 각 식량창고에는 정해진 수의 식량을 저장하고 있으며 개미 전사는 식량창고를 선택적으로 약탈하여 식량을 빼앗을 예정이다. 이때 메뚜기 정찰병들은 일직선상에 존재하는 식량창고 중에서 서로 인접한 식량창고가 공격받으면 바로 알아챌 수 있다. 따라서 개미 전사가 정찰병에게 들키지 않고 식량창고를 약탈하기 위해서는 최소한 한 칸 이상 떨어진 식량창고를 약탈해야 한다. 예를 들어 식량창고 4개가 다음과 같이 존재한다고 가정하자.\n",
    "\n",
    "- {1, 3, 1, 5}\n",
    "- 이때 개미 전사는 두 번째 식량창고와 네 번째 식량창고를 선택했을 때 최댓값인 총 8개의 식량을 빼앗을 수 있다. 개미 전사는 식량창고가 이렇게 일직선상일 때 최대한 많은 식량을 얻기를 원한다. 개미 전사를 위해 식량창고 N개에 대한 정보가 주어졌을 때 얻을 수 있는 식량의 최댓값을 구하는 프로그램을 작성하시오.\n",
    "\n",
    "## 입력조건\n",
    "- 첫째 줄에 식량창고의 개수 N이 주어진다. (3<=N<=100)\n",
    "- 둘째 줄에 공백으로 구분되어 각 식량창고에 저장된 식량의 개수 K가 주어진다. (0 <=K <=1,000)\n",
    "\n",
    "## 출력조건\n",
    "첫째 줄에 개미 전사가 얻을 수 있는 식량의 최댓값을 출력하시오."
   ]
  },
  {
   "cell_type": "code",
   "execution_count": 1,
   "id": "a5830e3d",
   "metadata": {},
   "outputs": [
    {
     "name": "stdout",
     "output_type": "stream",
     "text": [
      "5\n",
      "1 3 1 5 7\n",
      "10\n"
     ]
    }
   ],
   "source": [
    "# 점수 n 입력\n",
    "n = int(input())\n",
    "# 모든 식량 정보 입력\n",
    "array = list(map(int, input().split()))\n",
    "\n",
    "# dp테이블 초기화\n",
    "d = [0] * 100\n",
    "\n",
    "d[0] = array[0]\n",
    "d[1] = max(array[0], array[1]) \n",
    "\n",
    "for i in range(2, n):\n",
    "    d[i] = max(d[i - 2] + array[i], d[i - 1])\n",
    "print(d[n - 1])"
   ]
  },
  {
   "cell_type": "markdown",
   "id": "4f04a628",
   "metadata": {},
   "source": [
    "# 바닥공사\n",
    "## 문제\n",
    "문제가로의 길이가 N, 세로의 길이가 2인 직사각형 형태의 얇은 바닥이 있다. 태일이는 이 얇은 바닥을 1 X 2의 덮개, 2 X 1의 덮개, 2 X 2의 덮개를 이용해 채우고자 한다. 이때 바닥을 채우는 모든 경우의 수를 구하는 프로그램을 작성하시오. 예를 들어 2 X 3 크기의 바닥을 채우는 경우의 수는 5가지이다.\n",
    "\n",
    "## 입력조건\n",
    "첫째 줄에 N이 주어진다 (1<=N<=1,000)\n",
    "## 출력조건\n",
    "첫째 줄에 2 X N 크기의 바닥을 채우는 방법의 수를 796,796으로 나눈 나머지를 출력한다."
   ]
  },
  {
   "cell_type": "code",
   "execution_count": 3,
   "id": "a968c898",
   "metadata": {},
   "outputs": [
    {
     "name": "stdout",
     "output_type": "stream",
     "text": [
      "4\n",
      "11\n"
     ]
    }
   ],
   "source": [
    "n = int(input())\n",
    "d = [0] * 1001\n",
    "d[1] = 1\n",
    "d[2] = 3\n",
    "\n",
    "for i in range(3, n + 1):\n",
    "    d[i] = (d[i - 1] + 2 * d[i - 2]) % 796796\n",
    "\n",
    "print(d[n])"
   ]
  },
  {
   "cell_type": "markdown",
   "id": "4487c6ca",
   "metadata": {},
   "source": [
    "# 효율적인 화폐 구성\n",
    "## 문제\n",
    "N 가지 종류의 화폐가 있다. 이 화폐들의 개수를 최소한으로 이용해서 그 가치의 합이 M원이 되도록 하려고 한다. 이때 각 화폐는 몇 개라도 사용할 수 있으며, 사용한 화폐의 구성은 같지만 순서만 다른 것은 같은 경우로 구분한다. 예를 들어 2원, 3원 단위의 화폐가 있을 때는 15원을 만들기 위해 3원을 5개 사용하는 것이 가장 최소한의 화폐 개수이다.\n",
    "## 입력조건\n",
    "- 첫째 줄에 N, M이 주어진다. (1 ≤ N ≤ 100, 1 ≤ M ≤ 10,000)\n",
    "- 이후 N개의 줄에는 각 화폐의 가치가 주어진다. 화폐 가치는 10,000 이하 자연수\n",
    "\n",
    "## 출력조건\n",
    "- 첫째 줄에 M원을 만들기 위한 최소한의 화폐 개수를 출력한다.\n",
    "- 불가능할 때는 -1을 출력한다."
   ]
  },
  {
   "cell_type": "code",
   "execution_count": null,
   "id": "a123f04d",
   "metadata": {},
   "outputs": [],
   "source": [
    "# 정수 N, M을 입력받기\n",
    "n, m = map(int, input().split())\n",
    " \n",
    "# N개의 화폐 단위 정보 입력받기\n",
    "array = []\n",
    "for i in range(n):\n",
    "    array.append(int(input()))\n",
    "    \n",
    "# 한 번 계산된 결과를 저장하기 위한 DP 테이블 초기화\n",
    "d = [10001] * (m+1)\n",
    " \n",
    "# DP 진행(보텀업)\n",
    "d[0] = 0\n",
    "for i in range(n):\n",
    "    for j in range(array[i], m+1):\n",
    "        if d[j - array[i]] != 10001: # (i - k) 원을 만드는 방법이 존재하는 경우\n",
    "            d[j] = min(d[j], d[j - array[i]] + 1)\n",
    "            \n",
    "if d[m] == 10001:\n",
    "    print(-1)\n",
    "else:\n",
    "    print(d[m])"
   ]
  },
  {
   "cell_type": "code",
   "execution_count": 5,
   "id": "194c2c40",
   "metadata": {},
   "outputs": [
    {
     "data": {
      "text/plain": [
       "[2, 3]"
      ]
     },
     "execution_count": 5,
     "metadata": {},
     "output_type": "execute_result"
    }
   ],
   "source": [
    "a=[]\n",
    "a.append(2)\n",
    "a.append(3)\n",
    "a"
   ]
  },
  {
   "cell_type": "code",
   "execution_count": null,
   "id": "d102b805",
   "metadata": {},
   "outputs": [],
   "source": [
    "n=2, m=15"
   ]
  },
  {
   "cell_type": "code",
   "execution_count": null,
   "id": "53a38b68",
   "metadata": {},
   "outputs": [],
   "source": [
    "d=[0,10001,10001,10001]"
   ]
  },
  {
   "cell_type": "code",
   "execution_count": 2,
   "id": "07e709d6",
   "metadata": {},
   "outputs": [
    {
     "data": {
      "text/plain": [
       "1000000000.0"
      ]
     },
     "execution_count": 2,
     "metadata": {},
     "output_type": "execute_result"
    }
   ],
   "source": [
    "a=1e9\n",
    "b=1e8\n",
    "a"
   ]
  },
  {
   "cell_type": "code",
   "execution_count": 3,
   "id": "939baf31",
   "metadata": {},
   "outputs": [
    {
     "data": {
      "text/plain": [
       "100000000.0"
      ]
     },
     "execution_count": 3,
     "metadata": {},
     "output_type": "execute_result"
    }
   ],
   "source": [
    "b"
   ]
  }
 ],
 "metadata": {
  "kernelspec": {
   "display_name": "Python 3 (ipykernel)",
   "language": "python",
   "name": "python3"
  },
  "language_info": {
   "codemirror_mode": {
    "name": "ipython",
    "version": 3
   },
   "file_extension": ".py",
   "mimetype": "text/x-python",
   "name": "python",
   "nbconvert_exporter": "python",
   "pygments_lexer": "ipython3",
   "version": "3.10.9"
  },
  "toc": {
   "base_numbering": 1,
   "nav_menu": {},
   "number_sections": true,
   "sideBar": true,
   "skip_h1_title": false,
   "title_cell": "Table of Contents",
   "title_sidebar": "Contents",
   "toc_cell": false,
   "toc_position": {},
   "toc_section_display": true,
   "toc_window_display": false
  }
 },
 "nbformat": 4,
 "nbformat_minor": 5
}
