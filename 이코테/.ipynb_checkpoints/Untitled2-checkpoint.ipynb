{
 "cells": [
  {
   "cell_type": "markdown",
   "id": "4b68b10b",
   "metadata": {},
   "source": [
    "# 완주하지 못한 선수"
   ]
  },
  {
   "cell_type": "code",
   "execution_count": null,
   "id": "630bacfb",
   "metadata": {},
   "outputs": [],
   "source": [
    "def solution(participant, completion):\n",
    "    d = {}\n",
    "    for x in participant:\n",
    "        d[x] = d.get(x, 0) + 1\n",
    "    for x in completion:\n",
    "        d[x] -= 1\n",
    "    dnf = [k for k, v in d.items() if v > 0]\n",
    "    answer = dnf[0]\n",
    "    \n",
    "# 숫자가 아닌 문자여서 해시사용이 더 나았던것..ㅇㅅㅇ"
   ]
  },
  {
   "cell_type": "markdown",
   "id": "624cf723",
   "metadata": {},
   "source": [
    "# 체육복"
   ]
  },
  {
   "cell_type": "code",
   "execution_count": 3,
   "id": "daa679f8",
   "metadata": {},
   "outputs": [],
   "source": [
    "def solution(n, lost, reserve):\n",
    "    u = [1] * (n + 2)\n",
    "    for i in reserve:\n",
    "        u[i] += 1\n",
    "    for i in lost:\n",
    "        u[i] -= 1\n",
    "    for i in range(1, n + 1):\n",
    "        if u[i - 1] == 0 and u[i] == 2:\n",
    "            u[i - 1:i + 1] = [1, 1]\n",
    "        elif u[i] == 2 and u[i + 1] == 0:\n",
    "            u[i:i + 2] = [1, 1]\n",
    "    return len([x for x in u[1:-1] if x > 0])"
   ]
  },
  {
   "cell_type": "code",
   "execution_count": 2,
   "id": "ba8fce62",
   "metadata": {},
   "outputs": [],
   "source": [
    "def solution(n, lost, reserve):\n",
    "    s = set(lost) & set(reserve)\n",
    "    l = set(lost) - s\n",
    "    r = set(reserve) - s\n",
    "    for x in sorted(r):\n",
    "        if x - 1 in l:\n",
    "            l.remove(x - 1)\n",
    "        elif x + 1 in l:\n",
    "            l.remove(x + 1)\n",
    "    return n - len(l)"
   ]
  },
  {
   "cell_type": "markdown",
   "id": "081e960f",
   "metadata": {},
   "source": [
    "# 가장 큰 수"
   ]
  },
  {
   "cell_type": "code",
   "execution_count": null,
   "id": "53fb22d1",
   "metadata": {},
   "outputs": [],
   "source": [
    "def solution(numbers):\n",
    "    numbers = [str(x) for x in numbers]\n",
    "    numbers.sort(key=lambda x: (x * 4)[:4], reverse=True)\n",
    "    if numbers[0] == '0':\n",
    "        answer = '0'\n",
    "    else:\n",
    "        answer = ''.join(numbers)\n",
    "    return answer"
   ]
  },
  {
   "cell_type": "markdown",
   "id": "d293abb6",
   "metadata": {},
   "source": [
    "# 큰 수 만들기"
   ]
  },
  {
   "cell_type": "code",
   "execution_count": null,
   "id": "43fa4393",
   "metadata": {},
   "outputs": [],
   "source": [
    "def solution(number, k):\n",
    "    collected = []\n",
    "    for i, num in enumerate(number):\n",
    "        while len(collected) > 0 and collected[-1] < num and k > 0:\n",
    "            collected.pop()\n",
    "            k -= 1\n",
    "        if k == 0:\n",
    "            collected += list(number[i:])\n",
    "            break\n",
    "        collected.append(num)\n",
    "    collected = collected[:k] if k > 0 else collected\n",
    "    answer = ''.join(collected)\n",
    "    return answer"
   ]
  },
  {
   "cell_type": "code",
   "execution_count": null,
   "id": "13a3c9f6",
   "metadata": {},
   "outputs": [],
   "source": []
  },
  {
   "cell_type": "code",
   "execution_count": null,
   "id": "9b7a753b",
   "metadata": {},
   "outputs": [],
   "source": []
  }
 ],
 "metadata": {
  "kernelspec": {
   "display_name": "Python 3 (ipykernel)",
   "language": "python",
   "name": "python3"
  },
  "language_info": {
   "codemirror_mode": {
    "name": "ipython",
    "version": 3
   },
   "file_extension": ".py",
   "mimetype": "text/x-python",
   "name": "python",
   "nbconvert_exporter": "python",
   "pygments_lexer": "ipython3",
   "version": "3.9.7"
  },
  "toc": {
   "base_numbering": 1,
   "nav_menu": {},
   "number_sections": true,
   "sideBar": true,
   "skip_h1_title": false,
   "title_cell": "Table of Contents",
   "title_sidebar": "Contents",
   "toc_cell": false,
   "toc_position": {},
   "toc_section_display": true,
   "toc_window_display": false
  }
 },
 "nbformat": 4,
 "nbformat_minor": 5
}
